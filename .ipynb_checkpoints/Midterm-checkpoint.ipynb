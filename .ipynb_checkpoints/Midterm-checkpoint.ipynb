{
 "cells": [
  {
   "cell_type": "markdown",
   "metadata": {},
   "source": [
    "# Midterm Exam (Re-sub)\n",
    "Yoshiki NAKAJIMA (177e605e)   \n",
    "11 May, 2018"
   ]
  },
  {
   "cell_type": "markdown",
   "metadata": {},
   "source": [
    "## Problem 1\n",
    "Answer the following questions about continuous compounding   \n"
   ]
  },
  {
   "cell_type": "markdown",
   "metadata": {},
   "source": [
    "(1) Suppose that consumer have initial saving of $S(0)$ dollars and that the nominal annual rate is constant at $r$, compunded continuously. What is the expression for $S(t)$, i.e., the amount she has in t years from now?  \n",
    "$$S(t) = lim_{n \\rightarrow \\infty} S(0) (1+\\frac{r}{n})^{nt} =S(0)e^{rt}$$\n"
   ]
  },
  {
   "cell_type": "markdown",
   "metadata": {},
   "source": [
    "(2) What about when the nominal annual rate varies with time, $r=r(t)$?  \n",
    "  \n",
    "  \n",
    "Assume $r$ depends $t$, i.e., $r=r(t)$. and $R(t) = \\int_{s=0}^t r(s) ds$  \n",
    "$$S(t) = S(0) \\ exp \\Big({\\int_{s=0}^t r(s)ds} \\Big)=S(0) \\ exp({R(t)})$$"
   ]
  },
  {
   "cell_type": "markdown",
   "metadata": {},
   "source": [
    "## Problem 2 \n",
    "Suppose that $x$ and $y$ grow at constatn nominal rates given by 0.06 and 0.03. Calculate the growth rate of $z$ in each of the folllowing cases."
   ]
  },
  {
   "cell_type": "markdown",
   "metadata": {},
   "source": [
    "Grawth rate is defined as $\\frac{\\dot{z}}{z}$. Notice that $\\frac{d}{dt} ln \\ z = \\frac{\\dot{z}}{z}$, $\\frac{\\dot{x}}{x}=0.06$ and $\\frac{\\dot{y}}{y}=0.03$"
   ]
  },
  {
   "cell_type": "markdown",
   "metadata": {},
   "source": [
    "(1) $z=xy^2$\n",
    "\\begin{align*}\n",
    "    \\frac{\\dot{z}}{z} &= \\frac{d}{dt} (ln \\ (xy^2) \\\\\n",
    "    &=\\frac{\\dot{x}}{x} + 2 \\frac{\\dot{y}}{y} \\\\\n",
    "    &= 0.06+2 \\times 0.03 \\\\\n",
    "    &=0.12\n",
    "\\end{align*}  "
   ]
  },
  {
   "cell_type": "markdown",
   "metadata": {},
   "source": [
    "(2) $z=\\sqrt{x}/y$\n",
    "\\begin{align*}\n",
    "    \\frac{\\dot{z}}{z} &= \\frac{1}{2} \\frac{\\dot{x}}{x} - \\frac{\\dot{y}}{y} =0\n",
    "\\end{align*}  "
   ]
  },
  {
   "cell_type": "markdown",
   "metadata": {},
   "source": [
    "(3) $z=y/x^2$\n",
    "\\begin{align*}\n",
    "    \\frac{\\dot{z}}{z}= \\frac{\\dot{y}}{y} - -2 \\frac{\\dot{x}}{x} =-0.09\n",
    "\\end{align*}  "
   ]
  },
  {
   "cell_type": "markdown",
   "metadata": {},
   "source": [
    "(4) $z=x^{1/2} y^{1/2}$\n",
    "\\begin{align*}\n",
    "    \\frac{\\dot{z}}{z} = \\frac{1}{2} \\frac{\\dot{x}}{x} + \\frac{1}{2} \\frac{\\dot{y}}{y} = 0.045\n",
    "\\end{align*}  "
   ]
  },
  {
   "cell_type": "markdown",
   "metadata": {},
   "source": [
    "(5) $z=x^{-1/3} y^{2/3}$\n",
    "\\begin{align*}\n",
    "    \\frac{\\dot{z}}{z} = - \\frac{1}{3} \\frac{\\dot{x}}{x} + \\frac{2}{3} \\frac{\\dot{y}}{y} = 0\n",
    "\\end{align*}"
   ]
  },
  {
   "cell_type": "markdown",
   "metadata": {},
   "source": [
    "## Problem 3\n",
    "Consider the following production function,\n",
    "\\begin{align}\n",
    " Y=AK^\\alpha L^{1-\\alpha}\n",
    "\\end{align}"
   ]
  },
  {
   "cell_type": "markdown",
   "metadata": {},
   "source": [
    "(1) Describe your strategy to estimate the growth rate of the total factor productivity, A　　\n",
    "\n",
    "By taking natural logarithm and differenciating both hand side of the equation (1) w.r.t $t$, I get \n",
    "\\begin{align*}\n",
    "    \\frac{\\dot{Y}}{Y} = \\frac{\\dot{A}}{A} + \\alpha \\frac{\\dot{K}}{K} + (1-\\alpha) \\frac{\\dot{L}}{L}\n",
    "\\end{align*}\n",
    "Therefore, \n",
    "\\begin{align*}\n",
    "    \\frac{\\dot{A}}{A} = \\frac{\\dot{Y}}{Y} - \\alpha \\frac{\\dot{K}}{K} - (1-\\alpha) \\frac{\\dot{L}}{L}\n",
    "\\end{align*}"
   ]
  },
  {
   "cell_type": "markdown",
   "metadata": {},
   "source": [
    "Consider a Solow model having the above production function, with otherwise standard assumptions. Let $g$= growth rate of A, $s$ = saving rate, $\\delta$= depreciation rate, $n$= population growth rate.  \n",
    "\n",
    "(2) With an appropriate definition of \"effective labour,\" derive a differencial equation that governs the development of the economy.  \n",
    "\n",
    "\n",
    "Define effective labour as $A^{1/(1-\\alpha)}L$\n",
    "\n",
    "\\begin{align*}\n",
    "    y &\\equiv \\frac{Y}{A^{1/(1-\\alpha)}L} \\\\ \n",
    "    &= \\frac{AK^\\alpha L^{1-\\alpha}}{A^{1/(1-\\alpha)}L} \\\\\n",
    "    &= (\\frac{K}{A^{1/(1-\\alpha)}L})^\\alpha \\\\\n",
    "    &\\equiv k^\\alpha\n",
    "\\end{align*}  \n",
    "\n",
    "Therefore, the intensive form production function is $$y=f(k)=k^\\alpha$$\n",
    "\n",
    "This means that the evolution of this economy is driven by $k$. Let $\\dot{k}$ be the derivative of $k$ w.r.t. $t$, then\n",
    "\\begin{align*}\n",
    "    \\dot{k} &\\equiv \\dot{(\\frac{K}{A^{1/(1-\\alpha)}L})} \\\\\n",
    "    &= \\frac{\\dot{K}}{A^{1/(1-\\alpha)}L} - \\frac{1}{1-\\alpha} \\cdot \\frac{K}{A^{(1/(1-\\alpha))+1}L} \\cdot \\dot{A} - \\frac{K}{A^{1/(1-\\alpha)}L^2} \\cdot{\\dot{L}} \\\\\n",
    "    &= \\frac{sY-\\delta K}{A^{1/(1-\\alpha)}L} - \\frac{K}{A^{1/(1-\\alpha)}L}(\\frac{1}{1-\\alpha} \\cdot \\frac{\\dot{A}}{A} + \\frac{\\dot{L}}{L}) \\\\\n",
    "    &= s \\frac{Y}{A^{1/(1-\\alpha)}L} - (\\delta + \\frac{1}{1-\\alpha} \\cdot \\frac{\\dot{A}}{A} + \\frac{\\dot{L}}{L}) \\\\\n",
    "    &= sf(k) - (\\delta + \\frac{g}{1-\\alpha}+n)k\n",
    "\\end{align*}"
   ]
  },
  {
   "cell_type": "markdown",
   "metadata": {},
   "source": [
    "(3) Derive the expressions for the steady state values of K, K/L, C and C/L  \n",
    "At the steady state, $\\dot{k}=0$ That is, \n",
    "\\begin{align*}\n",
    "    sf(k^*) &= (\\delta + \\frac{g}{1-\\alpha}+n)k^* \\\\\n",
    "    sk^{*\\alpha} &= (\\delta + \\frac{g}{1-\\alpha}+n)k^* \\\\\n",
    "    k^{* \\alpha-1} &= \\frac{1}{s(1-\\alpha)} \\Big( (1-\\alpha) \\delta +g + (1-\\alpha) n \\Big) \\\\\n",
    "    k^*&= \\Big( \\frac{s(1-\\alpha)}{(1-\\alpha) \\delta +g+ (1-\\alpha) n} \\Big) ^{1/(1-\\alpha)}\n",
    "\\end{align*}"
   ]
  },
  {
   "cell_type": "markdown",
   "metadata": {},
   "source": [
    "a) K\n",
    "\\begin{align*}\n",
    "    K&=A^{1/(1-\\alpha)}L \\ k^* \\\\\n",
    "    &= A(0)^{1/(1-\\alpha)} L(0) \\ exp \\Big( \\big(\\frac{1}{1-\\alpha} \\cdot g + n  \\big)t \\Big) \\ k^*\n",
    "\\end{align*}  \n",
    "\n",
    "b) K/L\n",
    "\\begin{align*}\n",
    "    K/L &=A^{1/(1-\\alpha)} \\ k^* \\\\\n",
    "    &= A(0)^{1/(1-\\alpha)} \\  exp \\big(\\frac{gt}{1-\\alpha}\\big) k^*\n",
    "\\end{align*}"
   ]
  },
  {
   "cell_type": "markdown",
   "metadata": {},
   "source": [
    "c) C\n",
    "\\begin{align*}\n",
    "    C&=(1-s)\\ A^{1/(1-\\alpha)}\\ L\\ f(k) \\\\\n",
    "    &= (1-s)\\ A(0)^{1/(1-\\alpha)}\\ L(0)\\ exp \\Big( \\big(\\frac{1}{1-\\alpha}\\cdot g +n \\big) t \\Big) \\ k^{*\\alpha}\n",
    "\\end{align*}  \n",
    "\n",
    "d) C/L\n",
    "\\begin{align*}\n",
    "    C&=(1-s)\\ A^{1/(1-\\alpha)}\\ f(k) \\\\\n",
    "    &= (1-s)A(0)^{1/(1-\\alpha)} \\  exp \\big(\\frac{gt}{1-\\alpha}\\big) k^{*\\alpha}\n",
    "\\end{align*}"
   ]
  },
  {
   "cell_type": "markdown",
   "metadata": {},
   "source": [
    "(4) What are the growth rates of Y and Y/L in the balanced growth path?  \n",
    "\n",
    "At the steady state, $\\dot{k}=0$, hence $\\frac{\\dot{y}}{y}=0$ and $\\frac{\\dot{k}}{k}=0$  \n",
    "a) Y\n",
    "\\begin{align*}\n",
    "    Y&=A^{1/(1-\\alpha)}L\\  f(k) \\\\\n",
    "    \\Rightarrow \\;\n",
    "    \\frac{\\dot{Y}}{Y} &= \\frac{1}{1-\\alpha} \\frac{\\dot{A}}{A} + \\frac{\\dot{L}}{L} + \\frac{f(\\dot{k})}{f(k)} \\\\\n",
    "    &= \\frac{g}{1-\\alpha} + n \n",
    "\\end{align*}\n",
    "\n",
    "b) Y/L\n",
    "\\begin{align*}\n",
    "    Y/L&=A^{1/(1-\\alpha)} f(k) \\\\\n",
    "    \\Rightarrow \\;\n",
    "    \\frac{\\dot{(Y/L)}}{(Y/L)} &= \\frac{1}{1-\\alpha} \\frac{\\dot{A}}{A} + \\frac{f(\\dot{k})}{f(k)} \\\\\n",
    "    &= \\frac{g}{1-\\alpha}\n",
    "\\end{align*}"
   ]
  },
  {
   "cell_type": "markdown",
   "metadata": {},
   "source": [
    "## Problem 4\n",
    "Based on Mankiw-Romer-Weil model, Discuss the effect of an education policy that incetivises investment on human capital  \n",
    "\n",
    "MRW model introduces human capital, H, to Solow model.  \n",
    "Assume Cobb-Douglas type production function as we see in Prob-3,\n",
    "$$Y=AK^\\alpha H^\\beta L^{1-\\alpha - \\beta} \\; \\; ,\\text{where } 0<\\alpha<1, 0<\\beta<1 \\text{ and } \\alpha+\\beta<1$$ \n",
    "Let $\\phi=1/(1-\\alpha - \\beta)$ and $A^\\phi L$ be effective labour. Then intensive form production function is;\n",
    "\\begin{align*}\n",
    "    y \\equiv \\frac{Y}{A^\\phi L} \n",
    "    &= \\frac{AK^\\alpha H^\\beta L^{1-\\alpha - \\beta}}{A^\\phi L} \\\\\n",
    "    &= \\frac{K^\\alpha H^\\beta}{A^{(\\alpha+\\beta)/\\phi}L^{\\alpha + \\beta}} \\\\\n",
    "    &= \\big(\\frac{K}{A^{\\phi}L}\\big)^\\alpha \\big(\\frac{H}{A^{\\phi}L}\\big)^\\beta \n",
    "    \\equiv k^\\alpha h^\\beta\n",
    "\\end{align*}  \n",
    "\n",
    "From $k=\\frac{K}{A^{\\phi}L}$, we have\n",
    "\\begin{align*}\n",
    "   \\dot{k} &= \\frac{\\dot{K}}{A^\\phi L} - \\phi \\cdot \\frac{K}{A^{(\\phi+1)} L} \\cdot \\dot{A} - \\frac{Y}{A^\\phi L^2}\\cdot \\dot{L} \\\\\n",
    "   &= \\frac{s_k Y - \\delta K}{A^\\phi L} - \\phi \\frac{K}{A^{\\phi}L}\\big(\\frac{\\dot{A}}{A}+\\frac{\\dot{L}}{L}\\big) \\\\\n",
    "   &= s_k y - (\\delta +\\phi g + n) k \\\\\n",
    "   &= s_k k^\\alpha h^\\beta - (\\delta +\\phi g + n) k \n",
    "\\end{align*}  \n",
    "At $\\dot{k}=0$, \n",
    "\n",
    "\\begin{align}\n",
    "    s_k k^\\alpha h^\\beta &= (\\delta +\\phi g + n) k \\\\\n",
    "    \\Rightarrow k &= \\frac{s_k}{\\delta+\\phi g + n}^{1/(1-\\alpha)} h^{\\beta/(1-\\alpha)}\n",
    "\\end{align}\n",
    "\n",
    "Notice that from $0< \\alpha <1$, $0< \\beta <1\\;$ and $\\alpha + \\beta <1$, $\\frac{\\partial k^*}{\\partial h}>0$ and $\\frac{\\partial^2 k^*}{\\partial h^2} <0$, i.e. $\\dot{k}$ locus has increasing in $h$ and its marginal effect diminishes as $h$ increases.\n",
    "\n",
    "Similarly from $h= \\frac{H}{A^\\phi L}$, we have\n",
    "$$ \\dot{h} = s_h k^\\alpha h^\\beta - (\\delta +\\phi g + n) h $$\n",
    "$\\dot{h}=0$ when \n",
    "\\begin{align*}\n",
    "    h= \\frac{s_h}{\\delta+\\phi g + n}^{1/(1-\\beta)} k^{\\alpha/(1-\\beta)}\n",
    "\\end{align*}\n",
    "\n",
    "By solving Eqn(2) and Eqn(3) we have \n",
    "\\begin{align*}\n",
    "    k^* &= \\Big( \\frac{s_k}{\\delta + \\phi g +n} \\Big)^{(1-\\beta)/(1-\\alpha-\\beta)} \\Big( \\frac{s_h}{\\delta + \\phi g +n} \\Big)^{\\beta/(1-\\alpha-\\beta)} \\\\\n",
    "    &= \\Big(\\frac{s_k^{1-\\beta}s_h^\\beta}{\\delta+ \\phi g + n} \\Big)^{1/(1-\\alpha-\\beta)} \\\\\n",
    "    h^* &= \\Big( \\frac{s_k}{\\delta + \\phi g +n}\\Big) ^{\\alpha/(1-\\alpha-\\beta)} \\Big( \\frac{s_h}{\\delta + \\phi g +n} \\Big)^{(1-\\alpha) /(1-\\alpha-\\beta)} \\\\\n",
    "    &= \\Big(\\frac{s_k^\\alpha \\: s_h^{1-\\alpha}}{\\delta+ \\phi g + n} \\Big)^{1/(1-\\alpha-\\beta)}\n",
    "\\end{align*}\n",
    "\n",
    "To see the effect of the education policy shock ($s_h$), I differenciate with respect to $s_h$ and get \n",
    "\\begin{align*}\n",
    "    \\frac{\\partial k^*}{\\partial s_h} &= \\Big( \\frac{s_k}{\\delta + \\phi g +n} \\Big)^{(1-\\beta)/(1-\\alpha-\\beta)} \\times \\frac{\\beta}{1-\\alpha-\\beta} \\cdot \\frac{1}{\\delta+ \\phi g + n} \\cdot \\Big( \\frac{s_h}{\\delta+ \\phi g + n} \\Big) ^{\\frac{\\beta}{1-\\alpha-\\beta}\\: -1} >0 \\\\\n",
    "    \\frac{\\partial h^*}{\\partial s_h} &= \\Big( \\frac{s_k}{\\delta + \\phi g +n} \\Big)^{\\alpha/(1-\\alpha-\\beta)} \\times \\frac{1-\\alpha}{1-\\alpha-\\beta} \\cdot \\frac{1}{\\delta+ \\phi g + n} \\cdot \\Big( \\frac{s_h}{\\delta+ \\phi g + n} \\Big) ^{\\frac{1-\\alpha}{1-\\alpha-\\beta}\\: -1} >0\n",
    "\\end{align*}\n",
    "\n",
    "\n",
    "The phase diagram for this economy is <img src=\"asset/MRW.jpeg\" width=\"400\" height=\"400\" /> \n",
    "Therefore, the increase in $s_h$ is followed by the increase of $h$ and $k$ \n",
    "\n",
    "\n"
   ]
  }
 ],
 "metadata": {
  "kernelspec": {
   "display_name": "Python 3",
   "language": "python",
   "name": "python3"
  },
  "language_info": {
   "codemirror_mode": {
    "name": "ipython",
    "version": 3
   },
   "file_extension": ".py",
   "mimetype": "text/x-python",
   "name": "python",
   "nbconvert_exporter": "python",
   "pygments_lexer": "ipython3",
   "version": "3.6.4"
  }
 },
 "nbformat": 4,
 "nbformat_minor": 2
}
