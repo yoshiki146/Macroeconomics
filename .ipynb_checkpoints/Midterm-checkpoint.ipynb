{
 "cells": [
  {
   "cell_type": "markdown",
   "metadata": {},
   "source": [
    "# Midterm Exam"
   ]
  },
  {
   "cell_type": "markdown",
   "metadata": {},
   "source": [
    "## Problem 1\n",
    "Answer the following questions about continuous compounding   \n"
   ]
  },
  {
   "cell_type": "markdown",
   "metadata": {},
   "source": [
    "(1) Suppose that consumer have initial saving of $S(0)$ dollars and that the nominal annual rate is constant at $r$, compunded continuously. What is the expression for $S(t)$, i.e., the amount she has in t years from now?  \n",
    "$$S(t) = lim_{n \\rightarrow \\infty} S(0) (1+\\frac{r}{n})^{nt} =S(0)e^{rt}$$\n"
   ]
  },
  {
   "cell_type": "markdown",
   "metadata": {},
   "source": [
    "(2) What about when the nominal annual rate varies with time, $r=r(t)$?  \n",
    "  \n",
    "  \n",
    "Assume $r$ depends $t$, i.e., $r=r(t)$. and $R(t) = \\int_0^\\infty r(t) dt$  \n",
    "$$S(t) = S(0) \\ exp({\\int_0^\\infty r(t)dt})=S(0) \\ exp({R(t)t})$$"
   ]
  },
  {
   "cell_type": "markdown",
   "metadata": {},
   "source": [
    "## Problem 2 \n",
    "Suppose that $x$ and $y$ grow at constatn nominal rates given by 0.06 and 0.03. Calculate the growth rate of $z$ in each of the folllowing cases."
   ]
  },
  {
   "cell_type": "markdown",
   "metadata": {},
   "source": [
    "Grawth rate is defined as $\\frac{\\dot{z}}{z}$. Notice that $\\frac{d}{dt} ln \\ z = \\frac{\\dot{z}}{z}$, $\\frac{\\dot{x}}{x}=0.06$ and $\\frac{\\dot{y}}{y}=0.03$"
   ]
  },
  {
   "cell_type": "markdown",
   "metadata": {},
   "source": [
    "(1) $z=xy^2$\n",
    "\\begin{align*}\n",
    "    \\frac{\\dot{z}}{z} &= \\frac{d}{dt} (ln \\ (xy^2) \\\\\n",
    "    &=\\frac{\\dot{x}}{x} + 2 \\frac{\\dot{y}}{y} \\\\\n",
    "    &= 0.06+2 \\times 0.03 \\\\\n",
    "    &=0.12\n",
    "\\end{align*}  "
   ]
  },
  {
   "cell_type": "markdown",
   "metadata": {},
   "source": [
    "(2) $z=\\sqrt{x}/y$\n",
    "\\begin{align*}\n",
    "    \\frac{\\dot{z}}{z} &= \\frac{1}{2} \\frac{\\dot{x}}{x} - \\frac{\\dot{y}}{y} =0\n",
    "\\end{align*}  "
   ]
  },
  {
   "cell_type": "markdown",
   "metadata": {},
   "source": [
    "(3) $z=y/x^2$\n",
    "\\begin{align*}\n",
    "    \\frac{\\dot{z}}{z}= \\frac{\\dot{y}}{y} - -2 \\frac{\\dot{x}}{x} =-0.09\n",
    "\\end{align*}  "
   ]
  },
  {
   "cell_type": "markdown",
   "metadata": {},
   "source": [
    "(4) $z=x^{1/2} y^{1/2}$\n",
    "\\begin{align*}\n",
    "    \\frac{\\dot{z}}{z} = \\frac{1}{2} \\frac{\\dot{x}}{x} + \\frac{1}{2} \\frac{\\dot{y}}{y} = 0.045\n",
    "\\end{align*}  "
   ]
  },
  {
   "cell_type": "markdown",
   "metadata": {},
   "source": [
    "(5) $z=x^{-1/3} y^{2/3}$\n",
    "\\begin{align*}\n",
    "    \\frac{\\dot{z}}{z} = - \\frac{1}{3} \\frac{\\dot{x}}{x} + \\frac{2}{3} \\frac{\\dot{y}}{y} = 0\n",
    "\\end{align*}"
   ]
  },
  {
   "cell_type": "markdown",
   "metadata": {},
   "source": [
    "## Problem 3\n",
    "Consider the following production function,\n",
    "\\begin{align}\n",
    " Y=AK^\\alpha L^{1-\\alpha}\n",
    "\\end{align}"
   ]
  },
  {
   "cell_type": "markdown",
   "metadata": {},
   "source": [
    "(1) Describe your strategy to estimate the growth rate of the total factor productivity, A　　\n",
    "\n",
    "By taking natural logarithm and differenciating both hand side of the equation (1) w.r.t $t$, I get \n",
    "\\begin{align*}\n",
    "    \\frac{\\dot{Y}}{Y} = \\frac{\\dot{A}}{A} + \\alpha \\frac{\\dot{K}}{K} + (1-\\alpha) \\frac{\\dot{L}}{L}\n",
    "\\end{align*}\n",
    "Therefore, \n",
    "\\begin{align*}\n",
    "    \\frac{\\dot{A}}{A} = \\frac{\\dot{Y}}{Y} - \\alpha \\frac{\\dot{K}}{K} - (1-\\alpha) \\frac{\\dot{L}}{L}\n",
    "\\end{align*}"
   ]
  },
  {
   "cell_type": "markdown",
   "metadata": {},
   "source": [
    "Consider a Solow model having the above production function, with otherwise standard assumptions. Let $g$= growth rate of A, $s$ = saving rate, $\\delta$= depreciation rate, $n$= population growth rate.  \n",
    "\n",
    "(2) With an appropriate definition of \"effective labour,\" derive a differencial equation that governs the development of the economy.  \n",
    "\n",
    "\n",
    "Define effective labour as $A^{1/(1-\\alpha)}L$\n",
    "\n",
    "\\begin{align*}\n",
    "    y &\\equiv \\frac{Y}{A^{1/(1-\\alpha)}L} \\\\ \n",
    "    &= \\frac{AK^\\alpha L^{1-\\alpha}}{A^{1/(1-\\alpha)}L} \\\\\n",
    "    &= (\\frac{K}{A^{1/(1-\\alpha)}L})^\\alpha \\\\\n",
    "    &\\equiv k^\\alpha\n",
    "\\end{align*}  \n",
    "\n",
    "Therefore, the intensive form production function is $$y=f(k)=k^\\alpha$$\n",
    "\n",
    "This means that the evolution of this economy is driven by $k$. Let $\\dot{k}$ be the derivative of $k$ w.r.t. $t$, then\n",
    "\\begin{align*}\n",
    "    \\dot{k} &\\equiv \\dot{(\\frac{K}{A^{1/(1-\\alpha)}L})} \\\\\n",
    "    &= \\frac{\\dot{K}}{A^{1/(1-\\alpha)}L} - \\frac{1}{1-\\alpha} \\cdot \\frac{K}{A^{(1/(1-\\alpha))+1}L} \\cdot \\dot{A} - \\frac{K}{A^{1/(1-\\alpha)}L^2} \\cdot{\\dot{L}} \\\\\n",
    "    &= \\frac{sY-\\delta K}{A^{1/(1-\\alpha)}L} - \\frac{K}{A^{1/(1-\\alpha)}L}(\\frac{1}{1-\\alpha} \\cdot \\frac{\\dot{A}}{A} + \\frac{\\dot{L}}{L}) \\\\\n",
    "    &= s \\frac{Y}{A^{1/(1-\\alpha)}L} - (\\delta + \\frac{1}{1-\\alpha} \\cdot \\frac{\\dot{A}}{A} + \\frac{\\dot{L}}{L}) \\\\\n",
    "    &= sf(k) - (\\delta + \\frac{g}{1-\\alpha}+n)k\n",
    "\\end{align*}"
   ]
  },
  {
   "cell_type": "markdown",
   "metadata": {},
   "source": [
    "(3) Derive the expressions for the steady state values of K, K/L, C and C/L  \n",
    "At the steady state, $\\dot{k}=0$ That is, \n",
    "\\begin{align*}\n",
    "    sf(k) &= (\\delta + \\frac{g}{1-\\alpha}+n)k \\\\\n",
    "    sk^\\alpha &= (\\delta + \\frac{g}{1-\\alpha}+n)k \\\\\n",
    "    k^{\\alpha-1} &= \\frac{1}{s(1-\\alpha)} \\Big( (1-\\alpha) \\delta +g + (1-\\alpha) n \\Big) \\\\\n",
    "    k&= \\Big( \\frac{(1-\\alpha) \\delta +g+ (1-\\alpha) n}{s(1-\\alpha)} \\Big) ^{1/(1-\\alpha)}\n",
    "\\end{align*}"
   ]
  },
  {
   "cell_type": "markdown",
   "metadata": {},
   "source": [
    "a) K\n",
    "\\begin{align*}\n",
    "    K&=A^{1/(1-\\alpha)}L \\ k \\\\\n",
    "    &= L \\ \\Big( A \\cdot \\frac{(1-\\alpha) \\delta +g+ (1-\\alpha) n}{s(1-\\alpha)} \\Big) ^{1/(1-\\alpha)}\n",
    "\\end{align*}  \n",
    "\n",
    "b) K/L\n",
    "\\begin{align*}\n",
    "    K/L &=A^{1/(1-\\alpha)} \\ k \\\\\n",
    "    &=  \\Big( A \\cdot \\frac{(1-\\alpha) \\delta +g+ (1-\\alpha) n}{s(1-\\alpha)} \\Big) ^{1/(1-\\alpha)}\n",
    "\\end{align*}"
   ]
  },
  {
   "cell_type": "markdown",
   "metadata": {},
   "source": [
    "c) C\n",
    "\\begin{align*}\n",
    "    C&=(1-s)\\ A^{1/(1-\\alpha)}\\ L\\ f(k) \\\\\n",
    "    &= (1-s)\\ A^{1/(1-\\alpha)}\\ L\\ \\Big( \\frac{(1-\\alpha) \\delta +g+ (1-\\alpha) n}{s(1-\\alpha)} \\Big) ^{\\alpha/ (1-\\alpha)}\n",
    "\\end{align*}  \n",
    "\n",
    "d) C/L\n",
    "\\begin{align*}\n",
    "    C&=(1-s)\\ A^{1/(1-\\alpha)}\\ f(k) \\\\\n",
    "    &= (1-s)\\ A^{1/(1-\\alpha)}\\ \\Big( \\frac{(1-\\alpha) \\delta +g+ (1-\\alpha) n}{s(1-\\alpha)} \\Big) ^{\\alpha/ (1-\\alpha)}\n",
    "\\end{align*}"
   ]
  },
  {
   "cell_type": "markdown",
   "metadata": {},
   "source": [
    "(4) What are the growth rates of Y and Y/L in the balanced growth path?  \n",
    "\n",
    "At the steady state, $\\dot{k}=0$, hence $\\frac{\\dot{y}}{y}=0$ and $\\frac{\\dot{k}}{k}=0$  \n",
    "a) Y\n",
    "\\begin{align*}\n",
    "    Y&=A^{1/(1-\\alpha)}L\\  f(k) \\\\\n",
    "    \\Rightarrow \\;\n",
    "    \\frac{\\dot{Y}}{Y} &= \\frac{1}{1-\\alpha} \\frac{\\dot{A}}{A} + \\frac{\\dot{L}}{L} + \\frac{f(\\dot{k})}{f(k)} \\\\\n",
    "    &= \\frac{g}{1-\\alpha} + n \n",
    "\\end{align*}\n",
    "\n",
    "b) Y/L\n",
    "\\begin{align*}\n",
    "    Y/L&=A^{1/(1-\\alpha)} f(k) \\\\\n",
    "    \\Rightarrow \\;\n",
    "    \\frac{\\dot{(Y/L)}}{(Y/L)} &= \\frac{1}{1-\\alpha} \\frac{\\dot{A}}{A} + \\frac{f(\\dot{k})}{f(k)} \\\\\n",
    "    &= \\frac{g}{1-\\alpha}\n",
    "\\end{align*}"
   ]
  },
  {
   "cell_type": "code",
   "execution_count": null,
   "metadata": {},
   "outputs": [],
   "source": []
  }
 ],
 "metadata": {
  "kernelspec": {
   "display_name": "Python 3",
   "language": "python",
   "name": "python3"
  },
  "language_info": {
   "codemirror_mode": {
    "name": "ipython",
    "version": 3
   },
   "file_extension": ".py",
   "mimetype": "text/x-python",
   "name": "python",
   "nbconvert_exporter": "python",
   "pygments_lexer": "ipython3",
   "version": "3.6.4"
  }
 },
 "nbformat": 4,
 "nbformat_minor": 2
}
